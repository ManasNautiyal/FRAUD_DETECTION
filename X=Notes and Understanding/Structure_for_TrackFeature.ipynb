{
 "cells": [
  {
   "cell_type": "markdown",
   "id": "9b4866ed",
   "metadata": {},
   "source": [
    "Structure for Track and Predict Feature"
   ]
  },
  {
   "cell_type": "markdown",
   "id": "4bbef469",
   "metadata": {},
   "source": [
    "FRAUD_DETECTION/\n",
    "│\n",
    "├── 1.Track and Predict Feature/\n",
    "│   ├── AI Assistant/\n",
    "│   │   └── advisor.py          ← LangChain logic\n",
    "│   ├── Data for Feature/       ← CSVs or raw data\n",
    "│   ├── Trained Predictive Model/\n",
    "│   │   └── model.pkl           ← Your trained ML model\n",
    "│   └── Application.py          ← Streamlit app logic\n",
    "│\n",
    "├── 2.Fraud Detection Feature/\n",
    "├── 3.Recovery Feature/\n",
    "│\n",
    "├── Webpage/\n",
    "│   ├── Home.html               ← Embedded frontend page\n",
    "│   ├── TrackPage.html\n",
    "│   ├── Home_background.jpg\n",
    "│   └── other assets...\n",
    "│\n",
    "├── venv/ or .conda/            ← Environment\n",
    "└── requirements.txt            ← Python dependencies\n"
   ]
  },
  {
   "cell_type": "markdown",
   "id": "855b3ce6",
   "metadata": {},
   "source": [
    "Graphs for Representation"
   ]
  },
  {
   "cell_type": "markdown",
   "id": "1c72b0e3",
   "metadata": {},
   "source": [
    "import pandas as pd\n",
    "import matplotlib.pyplot as plt\n",
    "\n",
    "# Load your Excel file\n",
    "df = pd.read_excel(\"your_file.xlsx\")  # replace with your actual file name\n",
    "\n",
    "# Example: Assuming columns are \"Month\", \"Expenditure\", \"Savings\"\n",
    "x = df[\"Month\"]\n",
    "y1 = df[\"Expenditure\"]\n",
    "y2 = df[\"Savings\"]\n",
    "\n",
    "# Plotting\n",
    "plt.style.use('dark_background')  # sets black background\n",
    "plt.figure(figsize=(10, 6))\n",
    "\n",
    "plt.plot(x, y1, color='gold', linewidth=2, label='Expenditure')\n",
    "plt.plot(x, y2, color='orange', linestyle='--', linewidth=2, label='Savings')\n",
    "\n",
    "plt.title(\"Financial Overview\", fontsize=16, color='white')\n",
    "plt.xlabel(\"Month\", color='white')\n",
    "plt.ylabel(\"Amount\", color='white')\n",
    "plt.legend()\n",
    "plt.grid(True, linestyle=':', alpha=0.3)\n",
    "\n",
    "plt.xticks(color='white')\n",
    "plt.yticks(color='white')\n",
    "\n",
    "plt.tight_layout()\n",
    "plt.show()\n"
   ]
  }
 ],
 "metadata": {
  "language_info": {
   "name": "python"
  }
 },
 "nbformat": 4,
 "nbformat_minor": 5
}
